{
 "cells": [
  {
   "cell_type": "markdown",
   "id": "9aa803a1-ad7b-4100-a9f3-35ee45ffe9fd",
   "metadata": {},
   "source": [
    "Sandbox for ingestion db process"
   ]
  },
  {
   "cell_type": "markdown",
   "id": "85bb291c-a995-42ea-b1e1-a75e51644aab",
   "metadata": {},
   "source": [
    "**table ingestion fields.**    \n",
    "index  \n",
    "phash (str)  \n",
    "original_filename_with_path (str)  \n",
    "ingestion_date (datetime)  \n",
    "discarded (bool)  \n",
    "discarded_readon [duplicate | corrupt | None]  \n",
    "partner_name (str)  \n",
    "project_name (str)  "
   ]
  },
  {
   "cell_type": "code",
   "execution_count": 1,
   "id": "13ec5468-60b3-4e74-a3f4-862e05d24370",
   "metadata": {},
   "outputs": [
    {
     "name": "stdout",
     "output_type": "stream",
     "text": [
      "Collecting sqlalchemy\n",
      "  Downloading sqlalchemy-2.0.41-cp312-cp312-manylinux_2_17_x86_64.manylinux2014_x86_64.whl.metadata (9.6 kB)\n",
      "Requirement already satisfied: pymysql in /usr/local/lib/python3.12/site-packages (1.1.1)\n",
      "Collecting greenlet>=1 (from sqlalchemy)\n",
      "  Downloading greenlet-3.2.2-cp312-cp312-manylinux_2_24_x86_64.manylinux_2_28_x86_64.whl.metadata (4.1 kB)\n",
      "Requirement already satisfied: typing-extensions>=4.6.0 in /usr/local/lib/python3.12/site-packages (from sqlalchemy) (4.13.2)\n",
      "Downloading sqlalchemy-2.0.41-cp312-cp312-manylinux_2_17_x86_64.manylinux2014_x86_64.whl (3.3 MB)\n",
      "\u001b[2K   \u001b[90m━━━━━━━━━━━━━━━━━━━━━━━━━━━━━━━━━━━━━━━━\u001b[0m \u001b[32m3.3/3.3 MB\u001b[0m \u001b[31m9.7 MB/s\u001b[0m eta \u001b[36m0:00:00\u001b[0mta \u001b[36m0:00:01\u001b[0m\n",
      "\u001b[?25hDownloading greenlet-3.2.2-cp312-cp312-manylinux_2_24_x86_64.manylinux_2_28_x86_64.whl (603 kB)\n",
      "\u001b[2K   \u001b[90m━━━━━━━━━━━━━━━━━━━━━━━━━━━━━━━━━━━━━━━━\u001b[0m \u001b[32m603.9/603.9 kB\u001b[0m \u001b[31m6.5 MB/s\u001b[0m eta \u001b[36m0:00:00\u001b[0m\n",
      "\u001b[?25hInstalling collected packages: greenlet, sqlalchemy\n",
      "Successfully installed greenlet-3.2.2 sqlalchemy-2.0.41\n",
      "\u001b[33mWARNING: Running pip as the 'root' user can result in broken permissions and conflicting behaviour with the system package manager, possibly rendering your system unusable. It is recommended to use a virtual environment instead: https://pip.pypa.io/warnings/venv. Use the --root-user-action option if you know what you are doing and want to suppress this warning.\u001b[0m\u001b[33m\n",
      "\u001b[0m\n",
      "\u001b[1m[\u001b[0m\u001b[34;49mnotice\u001b[0m\u001b[1;39;49m]\u001b[0m\u001b[39;49m A new release of pip is available: \u001b[0m\u001b[31;49m25.0.1\u001b[0m\u001b[39;49m -> \u001b[0m\u001b[32;49m25.1.1\u001b[0m\n",
      "\u001b[1m[\u001b[0m\u001b[34;49mnotice\u001b[0m\u001b[1;39;49m]\u001b[0m\u001b[39;49m To update, run: \u001b[0m\u001b[32;49mpip install --upgrade pip\u001b[0m\n"
     ]
    }
   ],
   "source": [
    "!pip install sqlalchemy pymysql"
   ]
  },
  {
   "cell_type": "code",
   "execution_count": 2,
   "id": "8f3ba381-7ed9-4851-890c-6775e6c3d763",
   "metadata": {},
   "outputs": [],
   "source": [
    "import enum\n",
    "from datetime import datetime"
   ]
  },
  {
   "cell_type": "code",
   "execution_count": 3,
   "id": "2acda4d5-44cd-42d5-a80d-1838e6a87d0e",
   "metadata": {},
   "outputs": [],
   "source": [
    "from sqlalchemy import create_engine\n",
    "\n",
    "db_user = 'user'\n",
    "db_password = 'userpassword'\n",
    "db_host = 'mariadb_basics'\n",
    "db_port = '3306'\n",
    "db_name = 'new_backend_desarrollo'\n",
    "\n",
    "# URL de conexión para SQLAlchemy con PyMySQL\n",
    "connection_url = f\"mysql+pymysql://{db_user}:{db_password}@{db_host}:{db_port}/{db_name}\"\n",
    "\n",
    "# Crear el engine de SQLAlchemy\n",
    "engine = create_engine(connection_url, echo=False)"
   ]
  },
  {
   "cell_type": "code",
   "execution_count": 4,
   "id": "2bed8963-0f2d-4cd7-9f8f-87af165ea85a",
   "metadata": {},
   "outputs": [
    {
     "name": "stdout",
     "output_type": "stream",
     "text": [
      "Conectado correctamente. Fecha/hora del servidor: 2025-05-16 17:40:31\n"
     ]
    }
   ],
   "source": [
    "from sqlalchemy import text\n",
    "\n",
    "with engine.connect() as conn:\n",
    "    result = conn.execute(text(\"SELECT NOW();\"))\n",
    "    for row in result:\n",
    "        print(\"Conectado correctamente. Fecha/hora del servidor:\", row[0])"
   ]
  },
  {
   "cell_type": "code",
   "execution_count": 8,
   "id": "a7053f9d-452b-41ae-82ab-c4560c483b0e",
   "metadata": {},
   "outputs": [],
   "source": [
    "from sqlalchemy import (\n",
    "    Column, Integer, String, DateTime, Boolean, Enum, ForeignKey\n",
    ")\n",
    "from sqlalchemy.orm import declarative_base\n",
    "from sqlalchemy.orm import relationship\n",
    "\n",
    "\n",
    "Base = declarative_base()\n",
    "\n",
    "class DiscardReasonEnum(enum.Enum):\n",
    "    duplicate = \"duplicate\"\n",
    "    corrupt = \"corrupt\"\n",
    "\n",
    "\n",
    "class Ingestion(Base):\n",
    "    __tablename__ = 'ingestion'\n",
    "\n",
    "    index = Column(Integer, primary_key=True, autoincrement=True)\n",
    "    phash = Column(String(255), nullable=False)\n",
    "    original_filename_with_path = Column(String(1024), nullable=False)\n",
    "    ingestion_date = Column(DateTime, default=datetime.utcnow, nullable=False)\n",
    "    discarded = Column(Boolean, default=False, nullable=False)\n",
    "    discarded_reason = Column(Enum(DiscardReasonEnum), nullable=True)\n",
    "    partner_id = Column(Integer, ForeignKey('partners.id'), nullable=False)\n",
    "    project_id = Column(Integer, ForeignKey('projects.id'), nullable=False)\n",
    "\n",
    "    partner = relationship(\"Partner\")\n",
    "    project = relationship(\"Project\")\n",
    "\n",
    "\n",
    "class Partner(Base):\n",
    "    __tablename__ = 'partners'\n",
    "\n",
    "    id = Column(Integer, primary_key=True, autoincrement=True)\n",
    "    name = Column(String(100), nullable=False, unique=True)  # comentar qué opina de tener restricción de unicidad en el nombre del partner (haremos lo mismo con los proyectos?)\n",
    "\n",
    "\n",
    "class Project(Base):\n",
    "    __tablename__ = 'projects'\n",
    "\n",
    "    id = Column(Integer, primary_key=True, autoincrement=True)\n",
    "    name = Column(String(100), nullable=False)\n",
    "\n"
   ]
  },
  {
   "cell_type": "code",
   "execution_count": 9,
   "id": "77342abc-5721-41aa-9e79-6375d82d7fa2",
   "metadata": {},
   "outputs": [
    {
     "name": "stdout",
     "output_type": "stream",
     "text": [
      "Tablas creadas correctamente.\n"
     ]
    }
   ],
   "source": [
    "Base.metadata.create_all(engine) #sólo crea las tablas que faltan\n",
    "print(\"Tablas creadas correctamente.\") "
   ]
  },
  {
   "cell_type": "markdown",
   "id": "13bbf26d-2522-483c-8c0f-2050a6108f8e",
   "metadata": {},
   "source": [
    "### ⬇️⬇️⬇️ Sólo si no tiene datos la db ‼️‼️‼️"
   ]
  },
  {
   "cell_type": "code",
   "execution_count": 10,
   "id": "30255a33-bb2d-4881-82f3-497040c72fd6",
   "metadata": {},
   "outputs": [
    {
     "name": "stdout",
     "output_type": "stream",
     "text": [
      "Partners y proyectos insertados correctamente.\n"
     ]
    }
   ],
   "source": [
    "from sqlalchemy.orm import Session\n",
    "\n",
    "# Crear una sesión\n",
    "session = Session(bind=engine)\n",
    "\n",
    "# Crear 7 partners (nombres de personas)\n",
    "partners = [\n",
    "    Partner(name=\"Ana Torres\"),\n",
    "    Partner(name=\"Luis Gómez\"),\n",
    "    Partner(name=\"Claudia Rivera\"),\n",
    "    Partner(name=\"Jorge Martínez\"),\n",
    "    Partner(name=\"Sara Delgado\"),\n",
    "    Partner(name=\"Pedro Sánchez\"),\n",
    "    Partner(name=\"Lucía Fernández\")\n",
    "]\n",
    "\n",
    "# Crear 3 proyectos\n",
    "projects = [\n",
    "    Project(name=\"mobile\"),\n",
    "    Project(name=\"crop\"),\n",
    "    Project(name=\"slit\")\n",
    "]\n",
    "\n",
    "# Agregar a la sesión\n",
    "session.add_all(partners + projects)\n",
    "\n",
    "# Confirmar los cambios en la base de datos\n",
    "try:\n",
    "    session.commit()\n",
    "    print(\"Partners y proyectos insertados correctamente.\")\n",
    "except Exception as e:\n",
    "    session.rollback()\n",
    "    print(\"Error al insertar datos:\", e)\n",
    "finally:\n",
    "    session.close()"
   ]
  },
  {
   "cell_type": "markdown",
   "id": "9406ec12-e95c-4412-b8e4-71894e6e2cbf",
   "metadata": {},
   "source": [
    "### Insertemos ahora fotos "
   ]
  },
  {
   "cell_type": "code",
   "execution_count": 11,
   "id": "725143f1-2ade-4112-a56d-a33ffe3d693b",
   "metadata": {},
   "outputs": [],
   "source": [
    "import random\n",
    "from sqlalchemy.orm import Session\n",
    "\n",
    "def insertar_fotos(session, lista_de_fotos):\n",
    "    \"\"\"\n",
    "    Inserta registros en la tabla Ingestion.\n",
    "\n",
    "    :param session: Objeto de sesión SQLAlchemy.\n",
    "    :param lista_de_fotos: Lista de dicts con claves:\n",
    "        - phash (str)\n",
    "        - original_filename_with_path (str)\n",
    "        - discarded (bool, opcional)\n",
    "        - discarded_reason (str: 'duplicate' | 'corrupt', opcional)\n",
    "    \"\"\"\n",
    "\n",
    "    # Obtener todos los partners y proyectos disponibles\n",
    "    partners = session.query(Partner).all()\n",
    "    projects = session.query(Project).all()\n",
    "\n",
    "    if not partners or not projects:\n",
    "        print(\"ERROR: Debes tener al menos un partner y un proyecto registrados.\")\n",
    "        return\n",
    "\n",
    "    for foto in lista_de_fotos:\n",
    "        # Validación básica\n",
    "        if not all(k in foto for k in [\"phash\", \"original_filename_with_path\"]):\n",
    "            print(\"Registro incompleto:\", foto)\n",
    "            continue\n",
    "\n",
    "        # Convertir razón de descarte si está presente\n",
    "        reason = foto.get(\"discarded_reason\")\n",
    "        if reason:\n",
    "            try:\n",
    "                reason_enum = DiscardReasonEnum(reason)\n",
    "            except ValueError:\n",
    "                print(f\"Razón inválida: {reason}\")\n",
    "                reason_enum = None\n",
    "        else:\n",
    "            reason_enum = None\n",
    "\n",
    "        # Crear objeto Ingestion\n",
    "        nuevo_registro = Ingestion(\n",
    "            phash=foto[\"phash\"],\n",
    "            original_filename_with_path=foto[\"original_filename_with_path\"],\n",
    "            discarded=foto.get(\"discarded\", False),\n",
    "            discarded_reason=reason_enum,\n",
    "            partner=random.choice(partners),\n",
    "            project=random.choice(projects)\n",
    "        )\n",
    "\n",
    "        session.add(nuevo_registro)\n",
    "\n",
    "    try:\n",
    "        session.commit()\n",
    "        print(f\"{len(lista_de_fotos)} registros insertados correctamente.\")\n",
    "    except Exception as e:\n",
    "        session.rollback()\n",
    "        print(\"Error al insertar:\", e)"
   ]
  },
  {
   "cell_type": "code",
   "execution_count": 12,
   "id": "b5135178-e6bf-4947-bd31-3153b7b09aa1",
   "metadata": {},
   "outputs": [
    {
     "name": "stdout",
     "output_type": "stream",
     "text": [
      "3 registros insertados correctamente.\n"
     ]
    }
   ],
   "source": [
    "# Crear sesión\n",
    "session = Session(bind=engine)\n",
    "\n",
    "# Datos simulados\n",
    "fotos = [\n",
    "    {\n",
    "        \"phash\": \"a1b2c3d4\",\n",
    "        \"original_filename_with_path\": \"/data/images/foto1.jpg\"\n",
    "    },\n",
    "    {\n",
    "        \"phash\": \"e5f6g7h8\",\n",
    "        \"original_filename_with_path\": \"/data/images/foto2.jpg\",\n",
    "        \"discarded\": True,\n",
    "        \"discarded_reason\": \"duplicate\"\n",
    "    },\n",
    "    {\n",
    "        \"phash\": \"i9j0k1l2\",\n",
    "        \"original_filename_with_path\": \"/data/images/foto3.jpg\",\n",
    "        \"discarded\": True,\n",
    "        \"discarded_reason\": \"corrupt\"\n",
    "    }\n",
    "]\n",
    "\n",
    "# Llamar a la función\n",
    "insertar_fotos(session, fotos)\n",
    "\n",
    "# Cerrar sesión\n",
    "session.close()"
   ]
  },
  {
   "cell_type": "code",
   "execution_count": 13,
   "id": "58163894-2264-4baa-90a7-c6b3ec5083d0",
   "metadata": {},
   "outputs": [],
   "source": [
    "fotos_2 = [\n",
    "    {\n",
    "        \"phash\": \"001a9fefb4c1d2e3\",\n",
    "        \"original_filename_with_path\": \"/data/images/exp_001.jpg\"\n",
    "    },\n",
    "    {\n",
    "        \"phash\": \"002b8eee91c2a3b4\",\n",
    "        \"original_filename_with_path\": \"/data/images/exp_002.jpg\"\n",
    "    },\n",
    "    {\n",
    "        \"phash\": \"003c7ddd82d3b4c5\",\n",
    "        \"original_filename_with_path\": \"/data/images/exp_003.jpg\",\n",
    "        \"discarded\": True,\n",
    "        \"discarded_reason\": \"duplicate\"\n",
    "    },\n",
    "    {\n",
    "        \"phash\": \"004d6ccc73e4c5d6\",\n",
    "        \"original_filename_with_path\": \"/data/images/exp_004.jpg\"\n",
    "    },\n",
    "    {\n",
    "        \"phash\": \"005e5bbb64f5d6e7\",\n",
    "        \"original_filename_with_path\": \"/data/images/exp_005.jpg\",\n",
    "        \"discarded\": True,\n",
    "        \"discarded_reason\": \"corrupt\"\n",
    "    },\n",
    "    {\n",
    "        \"phash\": \"006f4aaa55a6e7f8\",\n",
    "        \"original_filename_with_path\": \"/data/images/exp_006.jpg\"\n",
    "    },\n",
    "    {\n",
    "        \"phash\": \"007a3b9934b7f801\",\n",
    "        \"original_filename_with_path\": \"/data/images/exp_007.jpg\"\n",
    "    },\n",
    "    {\n",
    "        \"phash\": \"008b2c8823c80112\",\n",
    "        \"original_filename_with_path\": \"/data/images/exp_008.jpg\",\n",
    "        \"discarded\": True,\n",
    "        \"discarded_reason\": \"duplicate\"\n",
    "    },\n",
    "    {\n",
    "        \"phash\": \"009c1d7712d91223\",\n",
    "        \"original_filename_with_path\": \"/data/images/exp_009.jpg\"\n",
    "    },\n",
    "    {\n",
    "        \"phash\": \"010d0e6601ea1234\",\n",
    "        \"original_filename_with_path\": \"/data/images/exp_010.jpg\"\n",
    "    }\n",
    "]"
   ]
  },
  {
   "cell_type": "code",
   "execution_count": 14,
   "id": "536aedb2-124a-43c6-9251-a554a71ee4be",
   "metadata": {},
   "outputs": [
    {
     "name": "stdout",
     "output_type": "stream",
     "text": [
      "10 registros insertados correctamente.\n"
     ]
    }
   ],
   "source": [
    "session = Session(bind=engine)\n",
    "insertar_fotos(session, fotos_2)\n",
    "session.close()"
   ]
  },
  {
   "cell_type": "markdown",
   "id": "6d85986e-7bf8-4526-ab90-fcc3bbbc363e",
   "metadata": {},
   "source": [
    "### Métricas  \n",
    "#### Total de fotos por partner"
   ]
  },
  {
   "cell_type": "code",
   "execution_count": 15,
   "id": "003b0d2c-cf62-4d52-a18e-dccead57be6d",
   "metadata": {},
   "outputs": [
    {
     "name": "stdout",
     "output_type": "stream",
     "text": [
      "Luis Gómez: 4 fotos\n",
      "Jorge Martínez: 4 fotos\n",
      "Lucía Fernández: 2 fotos\n",
      "Pedro Sánchez: 2 fotos\n",
      "Claudia Rivera: 1 fotos\n"
     ]
    }
   ],
   "source": [
    "from sqlalchemy import func\n",
    "\n",
    "session = Session(bind=engine)\n",
    "\n",
    "resultados = (\n",
    "    session.query(\n",
    "        Partner.name,\n",
    "        func.count(Ingestion.index).label(\"total_fotos\")\n",
    "    )\n",
    "    .join(Ingestion)\n",
    "    .group_by(Partner.id)\n",
    "    .order_by(func.count(Ingestion.index).desc())\n",
    "    .all()\n",
    ")\n",
    "\n",
    "for nombre, total in resultados:\n",
    "    print(f\"{nombre}: {total} fotos\")"
   ]
  },
  {
   "cell_type": "markdown",
   "id": "a919cf3b-a5e4-4b65-bc14-bd05f124877a",
   "metadata": {},
   "source": [
    "#### Total de fotos descartadas por partner"
   ]
  },
  {
   "cell_type": "code",
   "execution_count": 16,
   "id": "d123e4e9-b65d-47d5-833a-e9a3dc97ac54",
   "metadata": {},
   "outputs": [
    {
     "name": "stdout",
     "output_type": "stream",
     "text": [
      "Jorge Martínez: 2 descartadas\n",
      "Lucía Fernández: 1 descartadas\n",
      "Luis Gómez: 1 descartadas\n",
      "Pedro Sánchez: 1 descartadas\n"
     ]
    }
   ],
   "source": [
    "resultados = (\n",
    "    session.query(\n",
    "        Partner.name,\n",
    "        func.count(Ingestion.index).label(\"fotos_descartadas\")\n",
    "    )\n",
    "    .join(Ingestion)\n",
    "    .filter(Ingestion.discarded == True)\n",
    "    .group_by(Partner.id)\n",
    "    .order_by(func.count(Ingestion.index).desc())\n",
    "    .all()\n",
    ")\n",
    "\n",
    "for nombre, total in resultados:\n",
    "    print(f\"{nombre}: {total} descartadas\")"
   ]
  },
  {
   "cell_type": "markdown",
   "id": "4d8264cd-d3ab-4d2f-a6ba-d82f18a52dfe",
   "metadata": {},
   "source": [
    "#### Fotos aportadas por partner y proyecto"
   ]
  },
  {
   "cell_type": "code",
   "execution_count": 17,
   "id": "00091b4d-9df0-492e-a44e-9e904c96ee8a",
   "metadata": {},
   "outputs": [
    {
     "name": "stdout",
     "output_type": "stream",
     "text": [
      "Claudia Rivera - slit: 1 fotos\n",
      "Jorge Martínez - mobile: 1 fotos\n",
      "Jorge Martínez - slit: 3 fotos\n",
      "Lucía Fernández - mobile: 1 fotos\n",
      "Lucía Fernández - slit: 1 fotos\n",
      "Luis Gómez - crop: 2 fotos\n",
      "Luis Gómez - mobile: 1 fotos\n",
      "Luis Gómez - slit: 1 fotos\n",
      "Pedro Sánchez - slit: 2 fotos\n"
     ]
    }
   ],
   "source": [
    "resultados = (\n",
    "    session.query(\n",
    "        Partner.name,\n",
    "        Project.name,\n",
    "        func.count(Ingestion.index).label(\"total_fotos\")\n",
    "    )\n",
    "    .join(Ingestion, Ingestion.partner_id == Partner.id)\n",
    "    .join(Project, Ingestion.project_id == Project.id)\n",
    "    .group_by(Partner.name, Project.name)\n",
    "    .order_by(Partner.name, Project.name)\n",
    "    .all()\n",
    ")\n",
    "\n",
    "for partner, proyecto, total in resultados:\n",
    "    print(f\"{partner} - {proyecto}: {total} fotos\")"
   ]
  },
  {
   "cell_type": "markdown",
   "id": "a416d216-ea4c-4e97-9cd9-9c1318534b5a",
   "metadata": {},
   "source": [
    "#### Fotos por mes"
   ]
  },
  {
   "cell_type": "code",
   "execution_count": 18,
   "id": "02126c2a-6593-4e04-b419-9f1803872b34",
   "metadata": {},
   "outputs": [
    {
     "name": "stdout",
     "output_type": "stream",
     "text": [
      "2025-05: 13 fotos\n"
     ]
    }
   ],
   "source": [
    "from sqlalchemy import extract\n",
    "\n",
    "resultados = (\n",
    "    session.query(\n",
    "        extract('year', Ingestion.ingestion_date).label('año'),\n",
    "        extract('month', Ingestion.ingestion_date).label('mes'),\n",
    "        func.count(Ingestion.index).label('total_fotos')\n",
    "    )\n",
    "    .group_by('año', 'mes')\n",
    "    .order_by('año', 'mes')\n",
    "    .all()\n",
    ")\n",
    "\n",
    "for año, mes, total in resultados:\n",
    "    print(f\"{int(año)}-{int(mes):02d}: {total} fotos\")"
   ]
  },
  {
   "cell_type": "markdown",
   "id": "e0d07987-b0d0-4879-a754-eae3f39ece27",
   "metadata": {},
   "source": [
    "#### Fotos por mes y partner"
   ]
  },
  {
   "cell_type": "code",
   "execution_count": 19,
   "id": "75e27db8-cc92-4810-afd5-63736d6fc70e",
   "metadata": {},
   "outputs": [
    {
     "name": "stdout",
     "output_type": "stream",
     "text": [
      "Claudia Rivera - 2025-05: 1 fotos\n",
      "Jorge Martínez - 2025-05: 4 fotos\n",
      "Lucía Fernández - 2025-05: 2 fotos\n",
      "Luis Gómez - 2025-05: 4 fotos\n",
      "Pedro Sánchez - 2025-05: 2 fotos\n"
     ]
    }
   ],
   "source": [
    "resultados = (\n",
    "    session.query(\n",
    "        Partner.name,\n",
    "        extract('year', Ingestion.ingestion_date).label('año'),\n",
    "        extract('month', Ingestion.ingestion_date).label('mes'),\n",
    "        func.count(Ingestion.index).label('total_fotos')\n",
    "    )\n",
    "    .join(Ingestion)\n",
    "    .group_by(Partner.name, 'año', 'mes')\n",
    "    .order_by(Partner.name, 'año', 'mes')\n",
    "    .all()\n",
    ")\n",
    "\n",
    "for partner, año, mes, total in resultados:\n",
    "    print(f\"{partner} - {int(año)}-{int(mes):02d}: {total} fotos\")"
   ]
  },
  {
   "cell_type": "markdown",
   "id": "94f6ed2a-4ed4-400c-9e2d-f5510a1eb2cc",
   "metadata": {},
   "source": [
    "#### Fotos descartadas por mes y razón"
   ]
  },
  {
   "cell_type": "code",
   "execution_count": 20,
   "id": "e82fe19f-e31b-4dcf-9e5d-cda6bd77ef06",
   "metadata": {},
   "outputs": [
    {
     "name": "stdout",
     "output_type": "stream",
     "text": [
      "2025-05 | duplicate: 3\n",
      "2025-05 | corrupt: 2\n"
     ]
    }
   ],
   "source": [
    "resultados = (\n",
    "    session.query(\n",
    "        extract('year', Ingestion.ingestion_date).label('año'),\n",
    "        extract('month', Ingestion.ingestion_date).label('mes'),\n",
    "        Ingestion.discarded_reason,\n",
    "        func.count(Ingestion.index).label('descartadas')\n",
    "    )\n",
    "    .filter(Ingestion.discarded == True)\n",
    "    .group_by('año', 'mes', Ingestion.discarded_reason)\n",
    "    .order_by('año', 'mes', Ingestion.discarded_reason)\n",
    "    .all()\n",
    ")\n",
    "\n",
    "for año, mes, razon, total in resultados:\n",
    "    razon_str = razon.value if razon else \"sin razón\"\n",
    "    print(f\"{int(año)}-{int(mes):02d} | {razon_str}: {total}\")"
   ]
  },
  {
   "cell_type": "code",
   "execution_count": null,
   "id": "15223676-52ad-4fed-8cd2-4da91a3b7501",
   "metadata": {},
   "outputs": [],
   "source": []
  }
 ],
 "metadata": {
  "kernelspec": {
   "display_name": "Python 3 (ipykernel)",
   "language": "python",
   "name": "python3"
  },
  "language_info": {
   "codemirror_mode": {
    "name": "ipython",
    "version": 3
   },
   "file_extension": ".py",
   "mimetype": "text/x-python",
   "name": "python",
   "nbconvert_exporter": "python",
   "pygments_lexer": "ipython3",
   "version": "3.12.10"
  }
 },
 "nbformat": 4,
 "nbformat_minor": 5
}
